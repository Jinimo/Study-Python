{
  "nbformat": 4,
  "nbformat_minor": 0,
  "metadata": {
    "colab": {
      "name": "01. PyTorch Tensor Allocation.ipynb",
      "provenance": [],
      "collapsed_sections": [],
      "authorship_tag": "ABX9TyMP2PMmLi2R4Prx5N60eQMc"
    },
    "kernelspec": {
      "name": "python3",
      "display_name": "Python 3"
    },
    "language_info": {
      "name": "python"
    }
  },
  "cells": [
    {
      "cell_type": "markdown",
      "source": [
        "[참고 - 위키독스, PyTorch로 시작하는 딥러닝 입문 ](https://wikidocs.net/52460) "
      ],
      "metadata": {
        "id": "tGTkzFfspFAV"
      }
    },
    {
      "cell_type": "code",
      "execution_count": 1,
      "metadata": {
        "id": "fytBg9xHk4ja"
      },
      "outputs": [],
      "source": [
        "import torch"
      ]
    },
    {
      "cell_type": "markdown",
      "source": [
        "## 1) 1D with PyTorch"
      ],
      "metadata": {
        "id": "fRPBjVPeldAJ"
      }
    },
    {
      "cell_type": "code",
      "source": [
        "t = torch.FloatTensor([0., 1., 2., 3., 4., 5., 6.])\n",
        "print(t)"
      ],
      "metadata": {
        "colab": {
          "base_uri": "https://localhost:8080/"
        },
        "id": "CJd5ZjzelXrz",
        "outputId": "90e814b7-5432-4394-98a9-63b1618c4219"
      },
      "execution_count": 2,
      "outputs": [
        {
          "output_type": "stream",
          "name": "stdout",
          "text": [
            "tensor([0., 1., 2., 3., 4., 5., 6.])\n"
          ]
        }
      ]
    },
    {
      "cell_type": "code",
      "source": [
        "print('t.dim() :', t.dim())  # rank  --> 차원 확인 \n",
        "print('t.shape : ', t.shape)  # shape --> 사이즈 확인 \n",
        "print('t.size() : ', t.size()) # shape --> 사이즈 확인"
      ],
      "metadata": {
        "colab": {
          "base_uri": "https://localhost:8080/"
        },
        "id": "ksugvcsElgS9",
        "outputId": "6d434b0c-0b7c-4ff8-94b2-becc93e1ba49"
      },
      "execution_count": 4,
      "outputs": [
        {
          "output_type": "stream",
          "name": "stdout",
          "text": [
            "t.dim() : 1\n",
            "t.shape :  torch.Size([7])\n",
            "t.size() :  torch.Size([7])\n"
          ]
        }
      ]
    },
    {
      "cell_type": "code",
      "source": [
        "print(t[0], t[1], t[-1])  # 인덱스로 접근\n",
        "print(t[2:5], t[4:-1])    # 슬라이싱\n",
        "print(t[:2], t[3:])       # 슬라이싱"
      ],
      "metadata": {
        "colab": {
          "base_uri": "https://localhost:8080/"
        },
        "id": "1LMVCaZhlsaS",
        "outputId": "318597bb-94ca-4a4a-fba2-8975fa58786d"
      },
      "execution_count": 5,
      "outputs": [
        {
          "output_type": "stream",
          "name": "stdout",
          "text": [
            "tensor(0.) tensor(1.) tensor(6.)\n",
            "tensor([2., 3., 4.]) tensor([4., 5.])\n",
            "tensor([0., 1.]) tensor([3., 4., 5., 6.])\n"
          ]
        }
      ]
    },
    {
      "cell_type": "markdown",
      "source": [
        "## 2) 2D with PyTorch"
      ],
      "metadata": {
        "id": "HJ5PE59hmIrS"
      }
    },
    {
      "cell_type": "code",
      "source": [
        "t = torch.FloatTensor([[1., 2., 3.],\n",
        "                       [4., 5., 6.],\n",
        "                       [7., 8., 9.],\n",
        "                       [10., 11., 12.]\n",
        "                      ])\n",
        "print(t)"
      ],
      "metadata": {
        "colab": {
          "base_uri": "https://localhost:8080/"
        },
        "id": "XKmLRtuImBkv",
        "outputId": "c46acc33-af66-44ca-e15b-9088987d18c4"
      },
      "execution_count": 6,
      "outputs": [
        {
          "output_type": "stream",
          "name": "stdout",
          "text": [
            "tensor([[ 1.,  2.,  3.],\n",
            "        [ 4.,  5.,  6.],\n",
            "        [ 7.,  8.,  9.],\n",
            "        [10., 11., 12.]])\n"
          ]
        }
      ]
    },
    {
      "cell_type": "code",
      "source": [
        "print('t.dim() :', t.dim())  # rank  --> 차원 확인 \n",
        "print('t.shape : ', t.shape)  # shape --> 사이즈 확인 \n",
        "print('t.size() : ', t.size()) # shape --> 사이즈 확인"
      ],
      "metadata": {
        "colab": {
          "base_uri": "https://localhost:8080/"
        },
        "id": "fVY4Ar9nmL_M",
        "outputId": "1d1459ec-8a2b-4e70-e347-cf08b61919fd"
      },
      "execution_count": 7,
      "outputs": [
        {
          "output_type": "stream",
          "name": "stdout",
          "text": [
            "t.dim() : 2\n",
            "t.shape :  torch.Size([4, 3])\n",
            "t.size() :  torch.Size([4, 3])\n"
          ]
        }
      ]
    },
    {
      "cell_type": "code",
      "source": [
        "print(t[:, 1]) # 첫번째 차원을 전체 선택한 상황에서 두번째 차원의 첫번째 것만 가져온다.\n",
        "print(t[:, 1].size()) # ↑ 위의 경우의 크기"
      ],
      "metadata": {
        "colab": {
          "base_uri": "https://localhost:8080/"
        },
        "id": "2sQVKhFymQD_",
        "outputId": "8294b03e-5e90-4330-8d03-5dff3e371e8a"
      },
      "execution_count": 8,
      "outputs": [
        {
          "output_type": "stream",
          "name": "stdout",
          "text": [
            "tensor([ 2.,  5.,  8., 11.])\n",
            "torch.Size([4])\n"
          ]
        }
      ]
    },
    {
      "cell_type": "code",
      "source": [
        "print(t[:, :-1]) # 첫번째 차원을 전체 선택한 상황에서 두번째 차원에서는 맨 마지막에서 첫번째를 제외하고 다 가져온다."
      ],
      "metadata": {
        "colab": {
          "base_uri": "https://localhost:8080/"
        },
        "id": "BSdBfXbamUBZ",
        "outputId": "d717f137-f4c5-4a97-9d4d-295bc2c15427"
      },
      "execution_count": 9,
      "outputs": [
        {
          "output_type": "stream",
          "name": "stdout",
          "text": [
            "tensor([[ 1.,  2.],\n",
            "        [ 4.,  5.],\n",
            "        [ 7.,  8.],\n",
            "        [10., 11.]])\n"
          ]
        }
      ]
    },
    {
      "cell_type": "markdown",
      "source": [
        "## 3) 브로드캐스팅(Broadcasting)\n",
        "크기가 다른 행렬 또는 텐서에 대해서 사칙 연산을 수행시 자동으로 크기 맞추어 연산 수행"
      ],
      "metadata": {
        "id": "4cBpDU40mwHw"
      }
    },
    {
      "cell_type": "markdown",
      "source": [
        " 행렬 A, B\n",
        " - 덧셈과 뺄셈을 할 때 -> 두 행렬 A, B의 크기가 같아야함\n",
        " - 두 행렬이 곱셈을 할 때 -> A의 마지막 차원과 B의 첫번째 차원이 일치해야함"
      ],
      "metadata": {
        "id": "dIyewXc5m2u4"
      }
    },
    {
      "cell_type": "code",
      "source": [
        "## 같은 크기일 경우\n",
        "m1 = torch.FloatTensor([[3, 3]])\n",
        "m2 = torch.FloatTensor([[2, 2]])\n",
        "\n",
        "print(f'm1.shape: {m1.shape} / m2.shape: {m2.shape}')\n",
        "print(f'm1 + m2: {m1 + m2}')"
      ],
      "metadata": {
        "colab": {
          "base_uri": "https://localhost:8080/"
        },
        "id": "3VcH7QMtmou3",
        "outputId": "a431ab89-70a9-41f7-ac65-0251ef058fd8"
      },
      "execution_count": 17,
      "outputs": [
        {
          "output_type": "stream",
          "name": "stdout",
          "text": [
            "m1.shape: torch.Size([1, 2]) / m2.shape: torch.Size([1, 2])\n",
            "m1 + m2: tensor([[5., 5.]])\n"
          ]
        }
      ]
    },
    {
      "cell_type": "code",
      "source": [
        "## 다른 크기의 행렬 연산 - Broadcasting\n",
        "# Vector + scalar\n",
        "m1 = torch.FloatTensor([[1, 2]])\n",
        "m2 = torch.FloatTensor([3]) # [3] -> [3, 3]\n",
        "\n",
        "print(f'm1.shape: {m1.shape} / m2.shape: {m2.shape}')\n",
        "print(f'm1 + m2: {m1 + m2}')"
      ],
      "metadata": {
        "colab": {
          "base_uri": "https://localhost:8080/"
        },
        "id": "CZCbsWxfnX4O",
        "outputId": "51f2d187-3582-462c-dae7-153eb1c268dd"
      },
      "execution_count": 18,
      "outputs": [
        {
          "output_type": "stream",
          "name": "stdout",
          "text": [
            "m1.shape: torch.Size([1, 2]) / m2.shape: torch.Size([1])\n",
            "m1 + m2: tensor([[4., 5.]])\n"
          ]
        }
      ]
    },
    {
      "cell_type": "code",
      "source": [
        "## 다른 크기의 행렬 연산 - Broadcasting\n",
        "# 2 x 1 Vector + 1 x 2 Vector\n",
        "m1 = torch.FloatTensor([[1, 2]])\n",
        "m2 = torch.FloatTensor([[3], [4]])\n",
        "\n",
        "print(f'm1.shape: {m1.shape} / m2.shape: {m2.shape}')\n",
        "print(f'm1 + m2: {m1 + m2}')\n",
        "\n",
        "# # 브로드캐스팅 과정에서 실제로 두 텐서가 어떻게 변경되는지 보겠습니다.\n",
        "# [1, 2]\n",
        "# ==> [[1, 2],\n",
        "#      [1, 2]]\n",
        "# [3]\n",
        "# [4]\n",
        "# ==> [[3, 3],\n",
        "#      [4, 4]]"
      ],
      "metadata": {
        "colab": {
          "base_uri": "https://localhost:8080/"
        },
        "id": "k4fQ217UoGJD",
        "outputId": "c6e55911-862e-4722-9c67-6ab48f27679e"
      },
      "execution_count": 19,
      "outputs": [
        {
          "output_type": "stream",
          "name": "stdout",
          "text": [
            "m1.shape: torch.Size([1, 2]) / m2.shape: torch.Size([2, 1])\n",
            "m1 + m2: tensor([[4., 5.],\n",
            "        [5., 6.]])\n"
          ]
        }
      ]
    },
    {
      "cell_type": "code",
      "source": [
        ""
      ],
      "metadata": {
        "id": "Zp8uDR5Pob3L"
      },
      "execution_count": null,
      "outputs": []
    }
  ]
}
