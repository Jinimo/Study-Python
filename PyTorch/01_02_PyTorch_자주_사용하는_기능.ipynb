{
  "nbformat": 4,
  "nbformat_minor": 0,
  "metadata": {
    "colab": {
      "name": "01_02_PyTorch 자주 사용하는 기능.ipynb",
      "provenance": [],
      "collapsed_sections": [],
      "authorship_tag": "ABX9TyMmk/zFw5AEGGpF3UJrttef"
    },
    "kernelspec": {
      "name": "python3",
      "display_name": "Python 3"
    },
    "language_info": {
      "name": "python"
    }
  },
  "cells": [
    {
      "cell_type": "markdown",
      "source": [
        "[참고 - 위키독스, PyTorch로 시작하는 딥러닝 입문 ](https://wikidocs.net/52460) "
      ],
      "metadata": {
        "id": "0euoJgKQpGe9"
      }
    },
    {
      "cell_type": "code",
      "execution_count": null,
      "metadata": {
        "id": "sh3xrTkOo8WR"
      },
      "outputs": [],
      "source": [
        "import torch"
      ]
    },
    {
      "cell_type": "markdown",
      "source": [
        "## 1. 곱셈 (Multiplication)\n",
        "- Matrix Multiplication - 행렬 곱셈(`.matmul`)\n",
        "- Multiplication - 원소 별 곱셈(`.mul`)"
      ],
      "metadata": {
        "id": "wpLXXwyVm4lL"
      }
    },
    {
      "cell_type": "markdown",
      "source": [
        "1-1) PyTorch Tensor Matrix Multiplication -  `matmul()`"
      ],
      "metadata": {
        "id": "5bMTjdZAnzh3"
      }
    },
    {
      "cell_type": "code",
      "source": [
        "## 4-1) PyTorch Tensor 행렬 곱셈 -  matmul()\n",
        "m1 = torch.FloatTensor([[1, 2], [3, 4]])\n",
        "m2 = torch.FloatTensor([[1], [2]])\n",
        "\n",
        "print('Shape of Matrix 1: ', m1.shape) # 2 x 2\n",
        "print('Shape of Matrix 2: ', m2.shape) # 2 x 1\n",
        "print(m1.matmul(m2)) # 2 x 1"
      ],
      "metadata": {
        "colab": {
          "base_uri": "https://localhost:8080/"
        },
        "id": "Zp8uDR5Pob3L",
        "outputId": "54f0613e-397b-4ac8-c203-38c573b8ad71"
      },
      "execution_count": null,
      "outputs": [
        {
          "output_type": "stream",
          "name": "stdout",
          "text": [
            "Shape of Matrix 1:  torch.Size([2, 2])\n",
            "Shape of Matrix 2:  torch.Size([2, 1])\n",
            "tensor([[ 5.],\n",
            "        [11.]])\n"
          ]
        }
      ]
    },
    {
      "cell_type": "markdown",
      "source": [
        "1-2) element-wise Multiplication - `*` or `mul()`\n",
        "- 동일한 크기의 행렬이 동일한 위치에 있는 원소끼리 곱함\n"
      ],
      "metadata": {
        "id": "8wblS2JCny3n"
      }
    },
    {
      "cell_type": "code",
      "source": [
        "# 서로로 다른 크기의 행렬이 브로드캐스팅이 된 후 -> element-wise 곱셈 수행\n",
        "m1 = torch.FloatTensor([[1, 2], [3, 4]])\n",
        "m2 = torch.FloatTensor([[1], [2]])\n",
        "\n",
        "print('Shape of Matrix 1: ', m1.shape) # 2 x 2\n",
        "print('Shape of Matrix 2: ', m2.shape) # 2 x 1\n",
        "print(m1 * m2) # 2 x 2\n",
        "print(m1.mul(m2))\n",
        "\n",
        "# # 브로드캐스팅 과정에서 m2 변경 \n",
        "# [1]\n",
        "# [2]\n",
        "# ==> [[1, 1],\n",
        "#      [2, 2]]"
      ],
      "metadata": {
        "colab": {
          "base_uri": "https://localhost:8080/"
        },
        "id": "0bamahULndPn",
        "outputId": "f8a084f6-5f29-4534-8f79-c4011077f437"
      },
      "execution_count": null,
      "outputs": [
        {
          "output_type": "stream",
          "name": "stdout",
          "text": [
            "Shape of Matrix 1:  torch.Size([2, 2])\n",
            "Shape of Matrix 2:  torch.Size([2, 1])\n",
            "tensor([[1., 2.],\n",
            "        [6., 8.]])\n",
            "tensor([[1., 2.],\n",
            "        [6., 8.]])\n"
          ]
        }
      ]
    },
    {
      "cell_type": "markdown",
      "source": [
        "## 2. 평균 (Mean) \n",
        "- Numpy에서의 사용법과 매우 유사\n",
        "- ` .mean()`"
      ],
      "metadata": {
        "id": "9OMcyyePph9d"
      }
    },
    {
      "cell_type": "code",
      "source": [
        "# 1차원 벡터\n",
        "t = torch.FloatTensor([1, 2])\n",
        "print(t.mean())"
      ],
      "metadata": {
        "id": "XB1QuL93oUQz",
        "colab": {
          "base_uri": "https://localhost:8080/"
        },
        "outputId": "23d4440c-d9b5-4853-beda-06bc63ced08a"
      },
      "execution_count": null,
      "outputs": [
        {
          "output_type": "stream",
          "name": "stdout",
          "text": [
            "tensor(1.5000)\n"
          ]
        }
      ]
    },
    {
      "cell_type": "code",
      "source": [
        "# 2차원 행렬\n",
        "t = torch.FloatTensor([[1, 2], [3, 4]])\n",
        "print(t)\n",
        "print(t.mean())"
      ],
      "metadata": {
        "colab": {
          "base_uri": "https://localhost:8080/"
        },
        "id": "xwdO62VipuHA",
        "outputId": "a00f62f2-bb95-4aa1-b675-0093679319f7"
      },
      "execution_count": null,
      "outputs": [
        {
          "output_type": "stream",
          "name": "stdout",
          "text": [
            "tensor([[1., 2.],\n",
            "        [3., 4.]])\n",
            "tensor(2.5000)\n"
          ]
        }
      ]
    },
    {
      "cell_type": "code",
      "source": [
        "# dinemsion을 인자로 보는 경우\n",
        "# dim=0 --> 첫번째 차원, '행'의미\n",
        "# 인자로 dim을 준다면 해당 차원을 제거한다는 의미 = '열'만 남김\n",
        "# ==> 0번 '행' 제거 후 '열'만 남김\n",
        "# 기존 행렬 크기 (2, 2) ---> 열의 차원만 보존되면서 (1, 2) = (2,)와 같으며 벡터\n",
        "print(t.mean(dim=0))\n"
      ],
      "metadata": {
        "colab": {
          "base_uri": "https://localhost:8080/"
        },
        "id": "DVkqW5_6px49",
        "outputId": "7098198a-74c5-4f5f-9d42-e3278843f302"
      },
      "execution_count": null,
      "outputs": [
        {
          "output_type": "stream",
          "name": "stdout",
          "text": [
            "tensor([2., 3.])\n"
          ]
        }
      ]
    },
    {
      "cell_type": "code",
      "source": [
        "# # 실제 연산 과정\n",
        "# t.mean(dim=0)은 입력에서 첫번째 차원을 제거\n",
        "\n",
        "# [[1., 2.],\n",
        "#  [3., 4.]]\n",
        "\n",
        "# 1과 3의 평균을 구하고, 2와 4의 평균 구함\n",
        "# 결과 ==> [2., 3.]"
      ],
      "metadata": {
        "id": "4H2ZtTo-p-W_"
      },
      "execution_count": null,
      "outputs": []
    },
    {
      "cell_type": "code",
      "source": [
        "print(t.mean(dim=1))\n",
        "\n",
        "# # 실제 연산 결과는 (2 × 1)\n",
        "# [1. 5]\n",
        "# [3. 5]\n",
        "\n",
        "# 하지만 (2 × 1)은 결국 1차원이므로 ----> (1 × 2)와 같이 표현"
      ],
      "metadata": {
        "colab": {
          "base_uri": "https://localhost:8080/"
        },
        "id": "4Xl8AX_qq-s4",
        "outputId": "dbd0b766-f0d2-409d-fdfc-0d16a39d7e3a"
      },
      "execution_count": null,
      "outputs": [
        {
          "output_type": "stream",
          "name": "stdout",
          "text": [
            "tensor([1.5000, 3.5000])\n"
          ]
        }
      ]
    },
    {
      "cell_type": "code",
      "source": [
        "print(t.mean(dim=-1))\n",
        "# 마지막 차원을 제거한다는 의미 = 결국 '열'의 차원을 제거한다는 의미와 같음 "
      ],
      "metadata": {
        "colab": {
          "base_uri": "https://localhost:8080/"
        },
        "id": "xVbswoKtq-5V",
        "outputId": "f828a8e9-1994-4fda-e29b-154bfdcfdfd1"
      },
      "execution_count": null,
      "outputs": [
        {
          "output_type": "stream",
          "name": "stdout",
          "text": [
            "tensor([1.5000, 3.5000])\n"
          ]
        }
      ]
    },
    {
      "cell_type": "markdown",
      "source": [
        "## 3. 덧셈 (Sum)"
      ],
      "metadata": {
        "id": "Rn0oAbp4rcJF"
      }
    },
    {
      "cell_type": "code",
      "source": [
        "t = torch.FloatTensor([[1, 2], [3, 4]])\n",
        "print(t)"
      ],
      "metadata": {
        "colab": {
          "base_uri": "https://localhost:8080/"
        },
        "id": "y1_sif9grMm8",
        "outputId": "845ec3d0-fd96-4b51-9a15-7ea51b60ac65"
      },
      "execution_count": null,
      "outputs": [
        {
          "output_type": "stream",
          "name": "stdout",
          "text": [
            "tensor([[1., 2.],\n",
            "        [3., 4.]])\n"
          ]
        }
      ]
    },
    {
      "cell_type": "code",
      "source": [
        "print('원소 전체 덧셈: :', t.sum()) # 단순히 원소 전체의 덧셈을 수행\n",
        "print('행 제거: ', t.sum(dim=0)) # 행을 제거\n",
        "print('열 제거: ', t.sum(dim=1)) # 열을 제거\n",
        "print('열 제거: ', t.sum(dim=-1)) # 열을 제거"
      ],
      "metadata": {
        "colab": {
          "base_uri": "https://localhost:8080/"
        },
        "id": "xV71E9P1rh0s",
        "outputId": "731cf3cf-17ea-413a-e2f5-8ede0571d7d9"
      },
      "execution_count": null,
      "outputs": [
        {
          "output_type": "stream",
          "name": "stdout",
          "text": [
            "원소 전체 덧셈: : tensor(10.)\n",
            "행 제거:  tensor([4., 6.])\n",
            "열 제거:  tensor([3., 7.])\n",
            "열 제거:  tensor([3., 7.])\n"
          ]
        }
      ]
    },
    {
      "cell_type": "markdown",
      "source": [
        "## 4. 최대 (Max) & 아그맥스 (ArgMax)\n",
        "- 최대(Max)는 원소의 최대값 return\n",
        "- 아그맥스(ArgMax)는 최대값 가진 index를 return\n"
      ],
      "metadata": {
        "id": "wYuwL5OFr8hJ"
      }
    },
    {
      "cell_type": "code",
      "source": [
        "t = torch.FloatTensor([[1, 2], [3, 4]])\n",
        "print(t)"
      ],
      "metadata": {
        "colab": {
          "base_uri": "https://localhost:8080/"
        },
        "id": "blBMafyUrxOy",
        "outputId": "1f79716a-f4ad-4cb4-f482-111efc05b93b"
      },
      "execution_count": null,
      "outputs": [
        {
          "output_type": "stream",
          "name": "stdout",
          "text": [
            "tensor([[1., 2.],\n",
            "        [3., 4.]])\n"
          ]
        }
      ]
    },
    {
      "cell_type": "code",
      "source": [
        "print('max: ', t.max(), '\\n') # Returns one value: max\n",
        "print('max & argmax: ',t.max(dim=0)) # Returns two values: max and argmax --> 첫번째 차원 제거"
      ],
      "metadata": {
        "colab": {
          "base_uri": "https://localhost:8080/"
        },
        "id": "SepOvE0wsLgI",
        "outputId": "85ad52c1-8b2c-413b-b7b6-bca8caa6f8b4"
      },
      "execution_count": null,
      "outputs": [
        {
          "output_type": "stream",
          "name": "stdout",
          "text": [
            "max:  tensor(4.) \n",
            "\n",
            "max & argmax:  torch.return_types.max(\n",
            "values=tensor([3., 4.]),\n",
            "indices=tensor([1, 1]))\n"
          ]
        }
      ]
    },
    {
      "cell_type": "code",
      "source": [
        "# # [1, 1]가 무슨 의미인지 봅시다. 기존 행렬을 다시 상기해봅시다.\n",
        "# [[1, 2],\n",
        "#  [3, 4]]\n",
        "\n",
        "# 첫번째 열에서 0번 인덱스는 1, 1번 인덱스는 3\n",
        "# 두번째 열에서 0번 인덱스는 2, 1번 인덱스는 4\n",
        "# 다시 말해 3과 4의 인덱스는 [1, 1]"
      ],
      "metadata": {
        "id": "_EfwjJcjsd-0"
      },
      "execution_count": null,
      "outputs": []
    },
    {
      "cell_type": "code",
      "source": [
        "# Max, Argmax 각각 받기\n",
        "print('Max: ', t.max(dim=0)[0]) \n",
        "print('Argmax: ', t.max(dim=0)[1])"
      ],
      "metadata": {
        "colab": {
          "base_uri": "https://localhost:8080/"
        },
        "id": "M2Cc7KLEs5jA",
        "outputId": "3c583c44-d4f6-4318-8ffc-008840d2778a"
      },
      "execution_count": null,
      "outputs": [
        {
          "output_type": "stream",
          "name": "stdout",
          "text": [
            "Max:  tensor([3., 4.])\n",
            "Argmax:  tensor([1, 1])\n"
          ]
        }
      ]
    },
    {
      "cell_type": "code",
      "source": [
        "print(t.max(dim=1))\n",
        "print(t.max(dim=-1))"
      ],
      "metadata": {
        "colab": {
          "base_uri": "https://localhost:8080/"
        },
        "id": "e3tigubHtB4x",
        "outputId": "0e411e02-2c58-4ed4-f0bb-9a307b7e2d6d"
      },
      "execution_count": null,
      "outputs": [
        {
          "output_type": "stream",
          "name": "stdout",
          "text": [
            "torch.return_types.max(\n",
            "values=tensor([2., 4.]),\n",
            "indices=tensor([1, 1]))\n",
            "torch.return_types.max(\n",
            "values=tensor([2., 4.]),\n",
            "indices=tensor([1, 1]))\n"
          ]
        }
      ]
    },
    {
      "cell_type": "code",
      "source": [
        ""
      ],
      "metadata": {
        "id": "CI5firuttEbj"
      },
      "execution_count": null,
      "outputs": []
    }
  ]
}