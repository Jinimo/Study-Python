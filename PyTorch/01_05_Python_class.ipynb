{
  "nbformat": 4,
  "nbformat_minor": 0,
  "metadata": {
    "colab": {
      "name": "01_05_Python_class.ipynb",
      "provenance": [],
      "collapsed_sections": [],
      "authorship_tag": "ABX9TyNwr2c6YS0b9wXAMAH7N3xr"
    },
    "kernelspec": {
      "name": "python3",
      "display_name": "Python 3"
    },
    "language_info": {
      "name": "python"
    }
  },
  "cells": [
    {
      "cell_type": "markdown",
      "source": [
        "# Python Class\n",
        "- [참고 - 위키독스, PyTorch로 시작하는 딥러닝 입문](https://wikidocs.net/52846)\n",
        "- Difference between `function` & `Class`"
      ],
      "metadata": {
        "id": "6brsYFEW9JSI"
      }
    },
    {
      "cell_type": "markdown",
      "source": [
        "## 1. 함수(function)로 덧셈기 구현\n",
        "- `add()`"
      ],
      "metadata": {
        "id": "tnTUq_-99W_E"
      }
    },
    {
      "cell_type": "markdown",
      "source": [
        "1-1) 1개 덧샘기 (1 func)\n"
      ],
      "metadata": {
        "id": "kHxch_sw_KvE"
      }
    },
    {
      "cell_type": "code",
      "execution_count": null,
      "metadata": {
        "id": "g_ooVuEb8qVB"
      },
      "outputs": [],
      "source": [
        "result = 0        # 전역 변수 선언 \n",
        "\n",
        "def add(num):\n",
        "    global result # 전역 변수\n",
        "    result += num\n",
        "    \n",
        "    return result"
      ]
    },
    {
      "cell_type": "code",
      "source": [
        "# 실행 결과 확인 \n",
        "print(add(3))     # 0 + 3 = 3\n",
        "print(add(4))     # 3 + 4 =7"
      ],
      "metadata": {
        "colab": {
          "base_uri": "https://localhost:8080/"
        },
        "id": "OEYtq0E8-S6T",
        "outputId": "bc8cbe9f-7d1a-45ca-e194-d353652e55e5"
      },
      "execution_count": null,
      "outputs": [
        {
          "output_type": "stream",
          "name": "stdout",
          "text": [
            "3\n",
            "7\n"
          ]
        }
      ]
    },
    {
      "cell_type": "markdown",
      "source": [
        "1-2) 2개 덧샘기 (2 func)\n",
        "- 독립적인 두 개의 덧샘기"
      ],
      "metadata": {
        "id": "aU2yeCbU-iJy"
      }
    },
    {
      "cell_type": "code",
      "source": [
        "# 전역 변수 선언 \n",
        "result1 = 0\n",
        "result2 = 0\n",
        "\n",
        "def add1(num):\n",
        "    global result1  # 전역 변수\n",
        "    result1 += num\n",
        "\n",
        "    return result1\n",
        "\n",
        "def add2(num):\n",
        "    global result2  # 전역 변수\n",
        "    result2 += num\n",
        "\n",
        "    return result2\n",
        "\n",
        "print('---- add 1 ----')\n",
        "print(add1(3))\n",
        "print(add1(4))\n",
        "\n",
        "print('---- add 2 ----')\n",
        "print(add2(3))\n",
        "print(add2(7))"
      ],
      "metadata": {
        "colab": {
          "base_uri": "https://localhost:8080/"
        },
        "id": "tUBNyaba-WlN",
        "outputId": "49cf7e0a-1bf0-4a97-fa2a-e81fd6988891"
      },
      "execution_count": null,
      "outputs": [
        {
          "output_type": "stream",
          "name": "stdout",
          "text": [
            "---- add 1 ----\n",
            "3\n",
            "7\n",
            "---- add 2 ----\n",
            "3\n",
            "10\n"
          ]
        }
      ]
    },
    {
      "cell_type": "markdown",
      "source": [
        "## 2. 클래스(Class)로 덧셈기 구현\n",
        "- `Class` --> 객체(object) 생성 가능 \n",
        "- 객체 생성 방법 \n",
        "  - `'object name' = 'class name'()`"
      ],
      "metadata": {
        "id": "0N_qHKSq_dgB"
      }
    },
    {
      "cell_type": "code",
      "source": [
        "class Calculator:\n",
        "  def __init__(self): # 생성자: 객체 생성 시 호출될 때 실행되는 초기화 함수\n",
        "    self.result = 0\n",
        "\n",
        "  def add(self, num):\n",
        "    self.result += num\n",
        "    \n",
        "    return self.result"
      ],
      "metadata": {
        "id": "X2uMinob-_A7"
      },
      "execution_count": null,
      "outputs": []
    },
    {
      "cell_type": "code",
      "source": [
        "# 객체 생성하기\n",
        "cal1 = Calculator()\n",
        "\n",
        "# 객체 여러개 생성 가능 \n",
        "cal2 = Calculator()"
      ],
      "metadata": {
        "id": "CeoxzgjgAIFi"
      },
      "execution_count": null,
      "outputs": []
    },
    {
      "cell_type": "code",
      "source": [
        "# 두 객체에 대해 독립적인 연산 \n",
        "print('---- cal 1 ----')\n",
        "print(cal1.add(3))\n",
        "print(cal1.add(4))\n",
        "print('---- cal 2 ----')\n",
        "print(cal2.add(3))\n",
        "print(cal2.add(7))"
      ],
      "metadata": {
        "colab": {
          "base_uri": "https://localhost:8080/"
        },
        "id": "ZjfmN6NPAurn",
        "outputId": "a30079fd-52b2-47f7-cc6f-765b369fe82a"
      },
      "execution_count": null,
      "outputs": [
        {
          "output_type": "stream",
          "name": "stdout",
          "text": [
            "---- cal 1 ----\n",
            "3\n",
            "7\n",
            "---- cal 2 ----\n",
            "3\n",
            "10\n"
          ]
        }
      ]
    },
    {
      "cell_type": "markdown",
      "source": [
        "==> 2개 덧샘기 독립적인 연산 수행시\n",
        "- 함수(function) - 2개 만들어야 함 \n",
        "- 클래스(class) - 1개 선언 후 별도의 객체 생성하면 더 간결하게 사용 가능 "
      ],
      "metadata": {
        "id": "B6NKi7LsA_u7"
      }
    },
    {
      "cell_type": "code",
      "source": [
        ""
      ],
      "metadata": {
        "id": "MMgC8XdwA8bP"
      },
      "execution_count": null,
      "outputs": []
    }
  ]
}