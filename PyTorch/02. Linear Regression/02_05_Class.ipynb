{
  "nbformat": 4,
  "nbformat_minor": 0,
  "metadata": {
    "colab": {
      "name": "02_05_Class.ipynb",
      "provenance": [],
      "collapsed_sections": [],
      "authorship_tag": "ABX9TyPzS2AUJTbjyHTqueQxut9X"
    },
    "kernelspec": {
      "name": "python3",
      "display_name": "Python 3"
    },
    "language_info": {
      "name": "python"
    }
  },
  "cells": [
    {
      "cell_type": "markdown",
      "source": [
        "[참조]\n",
        "- https://wikidocs.net/60036\n",
        "- https://jimmy-ai.tistory.com/79"
      ],
      "metadata": {
        "id": "RUvQPRfyMOPX"
      }
    },
    {
      "cell_type": "markdown",
      "source": [
        "# Class로 PyTorch 구현하기\n",
        " - PyTorch의 대부분의 구현체 -> 모델 생성시 Class 사용 \n",
        " - 반드시 숙지하기!!! \n"
      ],
      "metadata": {
        "id": "W29uR89JMVZD"
      }
    },
    {
      "cell_type": "markdown",
      "source": [
        "예시) Class로 선형 회귀(Linear Regression) 구현하기"
      ],
      "metadata": {
        "id": "I4x068H2MjpT"
      }
    },
    {
      "cell_type": "markdown",
      "source": [
        "## 1. model - Class로 구현하기\n",
        "- forward 연산: `H(x)` 식에서 `x`로 부터 예측된 `y`값을 얻는 과정 "
      ],
      "metadata": {
        "id": "RY0kJ6FqMyCY"
      }
    },
    {
      "cell_type": "code",
      "source": [
        "import torch\n",
        "import torch.nn as nn\n",
        "import torch.nn.functional as F"
      ],
      "metadata": {
        "id": "W_PpwF4NPBFF"
      },
      "execution_count": null,
      "outputs": []
    },
    {
      "cell_type": "code",
      "execution_count": null,
      "metadata": {
        "id": "bizGxj6lMFXi"
      },
      "outputs": [],
      "source": [
        "## 모델 선언 및 초기화\n",
        "# 단순 선형 회귀 --> input_dim=1, output_dim=1\n",
        "model = nn.Linear(1,1)"
      ]
    },
    {
      "cell_type": "code",
      "source": [
        "class LinearRegressionModel(nn.Module): # torch.nn.Module을 상속받는 Python class\n",
        "  def __init__(self):                   # 생성자: 구조와 동작 정의\n",
        "    super().__init__()                  # 다른 클래스의 속성 및 메소드 -> 자동으로 불러와 해당 클래스에서도 사용 가능하도록 해줌 \n",
        "                                        # nn.Module 클래스의 속성들을 가지고 초기화 됨\n",
        "    self.linear = nn.Linear(1,1)        # 단순 선형 회귀 --> input_dim=1, output_dim=1\n",
        "\n",
        "  def forward(self, x):                 # 모델이 학습 데이터를 입력 받아서 forward 연산 진행시키는 함수\n",
        "                                        # model 객체 -> 데이터와 함께 호출 -> 자동 실행\n",
        "                                        # ex) model이란 이름 객체 생성 -> model(input data) 형식의 객체 호출 -> 자동 forward 연산 수행 \n",
        "    return self.linear(x)"
      ],
      "metadata": {
        "id": "9WFJlEFaNEug"
      },
      "execution_count": null,
      "outputs": []
    },
    {
      "cell_type": "code",
      "source": [
        "model = LinearRegressionModel()"
      ],
      "metadata": {
        "id": "yYTPL427O-MV"
      },
      "execution_count": null,
      "outputs": []
    },
    {
      "cell_type": "markdown",
      "source": [
        "## 2. 단순 선형 회귀(Linear Regression) - Class로 구현하기"
      ],
      "metadata": {
        "id": "XqYy1SYCQrF5"
      }
    },
    {
      "cell_type": "code",
      "source": [
        "torch.manual_seed(1)"
      ],
      "metadata": {
        "colab": {
          "base_uri": "https://localhost:8080/"
        },
        "id": "EXheC6J3PJwi",
        "outputId": "fe7deb64-83cd-45fb-84df-8abcd2416804"
      },
      "execution_count": null,
      "outputs": [
        {
          "output_type": "execute_result",
          "data": {
            "text/plain": [
              "<torch._C.Generator at 0x7f7820f55c10>"
            ]
          },
          "metadata": {},
          "execution_count": 7
        }
      ]
    },
    {
      "cell_type": "code",
      "source": [
        "# 학습 데이터 \n",
        "x_train = torch.FloatTensor([[1], [2], [3]])\n",
        "y_train = torch.FloatTensor([[2], [4], [6]])"
      ],
      "metadata": {
        "id": "kQ54CDzWQ3g7"
      },
      "execution_count": null,
      "outputs": []
    },
    {
      "cell_type": "code",
      "source": [
        "## class로 모델 구현 \n",
        "class LinearRegressionModel(nn.Module):\n",
        "    def __init__(self):\n",
        "        super().__init__()\n",
        "        self.linear = nn.Linear(1, 1) # 단순 선형 회귀\n",
        "\n",
        "    def forward(self, x):\n",
        "        return self.linear(x)"
      ],
      "metadata": {
        "id": "3n2j1LcOREV2"
      },
      "execution_count": null,
      "outputs": []
    },
    {
      "cell_type": "code",
      "source": [
        "model = LinearRegressionModel()"
      ],
      "metadata": {
        "id": "CTFLe1uyRifd"
      },
      "execution_count": null,
      "outputs": []
    },
    {
      "cell_type": "code",
      "source": [
        "## optimizer 설정\n",
        "# - 경사 하강법 (SGD), learning rate(lr) = 0.01\n",
        "optimizer = torch.optim.SGD(model.parameters(), lr=0.01)"
      ],
      "metadata": {
        "id": "nc8_9PpDRmv7"
      },
      "execution_count": null,
      "outputs": []
    },
    {
      "cell_type": "code",
      "source": [
        "## 전체 훈련 데이터 2000번 반복\n",
        "nb_epochs = 2000\n",
        "for epoch in range(nb_epochs+1):\n",
        "  \n",
        "  # 가설 H(x)\n",
        "  prediction = model(x_train)\n",
        "\n",
        "  # 비용함수 cost \n",
        "  cost = F.mse_loss(prediction, y_train) # 파이토치에서 제공하는 평균 제곱 오차 함수(MSE)\n",
        "\n",
        "  # cost -> H(x) 개선 \n",
        "  optimizer.zero_grad() # gradient 0으로 초기화\n",
        "  cost.backward()       # 비용함수 미분하여 gradient 계산 \n",
        "  optimizer.step()      # W와 b 업데이트\n",
        "\n",
        "  if epoch%100 == 0:\n",
        "    print('Epoch {:4d}/{} | Cost: {:.6f}'.format(\n",
        "          epoch, nb_epochs, cost.item()\n",
        "      ))"
      ],
      "metadata": {
        "colab": {
          "base_uri": "https://localhost:8080/"
        },
        "id": "6YqKohzeSKHT",
        "outputId": "f3f541f3-bf65-44cb-ea49-598eebcd5ad5"
      },
      "execution_count": null,
      "outputs": [
        {
          "output_type": "stream",
          "name": "stdout",
          "text": [
            "Epoch    0/2000 | Cost: 13.103541\n",
            "Epoch  100/2000 | Cost: 0.002791\n",
            "Epoch  200/2000 | Cost: 0.001724\n",
            "Epoch  300/2000 | Cost: 0.001066\n",
            "Epoch  400/2000 | Cost: 0.000658\n",
            "Epoch  500/2000 | Cost: 0.000407\n",
            "Epoch  600/2000 | Cost: 0.000251\n",
            "Epoch  700/2000 | Cost: 0.000155\n",
            "Epoch  800/2000 | Cost: 0.000096\n",
            "Epoch  900/2000 | Cost: 0.000059\n",
            "Epoch 1000/2000 | Cost: 0.000037\n",
            "Epoch 1100/2000 | Cost: 0.000023\n",
            "Epoch 1200/2000 | Cost: 0.000014\n",
            "Epoch 1300/2000 | Cost: 0.000009\n",
            "Epoch 1400/2000 | Cost: 0.000005\n",
            "Epoch 1500/2000 | Cost: 0.000003\n",
            "Epoch 1600/2000 | Cost: 0.000002\n",
            "Epoch 1700/2000 | Cost: 0.000001\n",
            "Epoch 1800/2000 | Cost: 0.000001\n",
            "Epoch 1900/2000 | Cost: 0.000000\n",
            "Epoch 2000/2000 | Cost: 0.000000\n"
          ]
        }
      ]
    },
    {
      "cell_type": "markdown",
      "source": [
        "## 다중 선형 회귀 (Multivariable Linear Regression) - Class로 구현하기"
      ],
      "metadata": {
        "id": "apdQHZbFTPYQ"
      }
    },
    {
      "cell_type": "code",
      "source": [
        "import torch\n",
        "import torch.nn as nn\n",
        "import torch.nn.functional as F"
      ],
      "metadata": {
        "id": "93qo4EYmTNTf"
      },
      "execution_count": null,
      "outputs": []
    },
    {
      "cell_type": "code",
      "source": [
        "torch.manual_seed(1)"
      ],
      "metadata": {
        "colab": {
          "base_uri": "https://localhost:8080/"
        },
        "id": "1UwYAIO5Tc7g",
        "outputId": "40dd2db3-d26b-457b-d714-90722824963b"
      },
      "execution_count": null,
      "outputs": [
        {
          "output_type": "execute_result",
          "data": {
            "text/plain": [
              "<torch._C.Generator at 0x7f7820f55c10>"
            ]
          },
          "metadata": {},
          "execution_count": 19
        }
      ]
    },
    {
      "cell_type": "code",
      "source": [
        "# 학습 데이터 \n",
        "# 데이터\n",
        "x_train = torch.FloatTensor([[73, 80, 75],\n",
        "                             [93, 88, 93],\n",
        "                             [89, 91, 90],\n",
        "                             [96, 98, 100],\n",
        "                             [73, 66, 70]])\n",
        "y_train = torch.FloatTensor([[152], [185], [180], [196], [142]])"
      ],
      "metadata": {
        "id": "yZNzxC-ZTgAX"
      },
      "execution_count": null,
      "outputs": []
    },
    {
      "cell_type": "code",
      "source": [
        "class MultovariableLinearRegression(nn.Module):\n",
        "  def __init__(self):\n",
        "    super().__init__()\n",
        "    self.linear = nn.Linear(3, 1) # 다중 선형 회귀 --> input_dim=3, output_dim=1\n",
        "\n",
        "  def forward(self, x):\n",
        "    return self.linear(x)\n"
      ],
      "metadata": {
        "id": "jeEWuDoGTihF"
      },
      "execution_count": null,
      "outputs": []
    },
    {
      "cell_type": "code",
      "source": [
        "model = MultovariableLinearRegression()"
      ],
      "metadata": {
        "id": "-WudYF9EUDVf"
      },
      "execution_count": null,
      "outputs": []
    },
    {
      "cell_type": "code",
      "source": [
        "## optimizer 설정 \n",
        "optimizer = torch.optim.SGD(model.parameters(), lr=1e-5) # lr=0.00001 -> 0.01이면 발산하기 때문!"
      ],
      "metadata": {
        "id": "xPFl4flKUGUo"
      },
      "execution_count": null,
      "outputs": []
    },
    {
      "cell_type": "code",
      "source": [
        "## 2000번 반복\n",
        "nb_epochs = 2000\n",
        "for epoch in range(nb_epochs+1):\n",
        "\n",
        "  # 가설 H(x)\n",
        "  prediction = model(x_train) # model(x_train) = model.forward(x_train)\n",
        "\n",
        "  # 비용함수 cost\n",
        "  cost = F.mse_loss(prediction, y_train)\n",
        "\n",
        "  # cost -> H(x) 개선 \n",
        "  optimizer.zero_grad()        # gradient = 0 초기화\n",
        "  cost.backward()              # cost 미분 -> gradient 계산 \n",
        "  optimizer.step()             # W, b 업데이트\n",
        "\n",
        "  if epoch % 100 == 0:\n",
        "    print('Epoch: {:4d}/{} | Cost: {:6f}'.format(\n",
        "        epoch, nb_epochs, cost.item()\n",
        "    ))\n"
      ],
      "metadata": {
        "colab": {
          "base_uri": "https://localhost:8080/"
        },
        "id": "B8DDvyojUlgm",
        "outputId": "66c32f6c-c766-44ab-d790-bab0876007c9"
      },
      "execution_count": null,
      "outputs": [
        {
          "output_type": "stream",
          "name": "stdout",
          "text": [
            "Epoch:    0/2000 | Cost: 31667.597656\n",
            "Epoch:  100/2000 | Cost: 0.225993\n",
            "Epoch:  200/2000 | Cost: 0.223911\n",
            "Epoch:  300/2000 | Cost: 0.221941\n",
            "Epoch:  400/2000 | Cost: 0.220059\n",
            "Epoch:  500/2000 | Cost: 0.218271\n",
            "Epoch:  600/2000 | Cost: 0.216575\n",
            "Epoch:  700/2000 | Cost: 0.214950\n",
            "Epoch:  800/2000 | Cost: 0.213413\n",
            "Epoch:  900/2000 | Cost: 0.211952\n",
            "Epoch: 1000/2000 | Cost: 0.210560\n",
            "Epoch: 1100/2000 | Cost: 0.209232\n",
            "Epoch: 1200/2000 | Cost: 0.207967\n",
            "Epoch: 1300/2000 | Cost: 0.206761\n",
            "Epoch: 1400/2000 | Cost: 0.205619\n",
            "Epoch: 1500/2000 | Cost: 0.204522\n",
            "Epoch: 1600/2000 | Cost: 0.203484\n",
            "Epoch: 1700/2000 | Cost: 0.202485\n",
            "Epoch: 1800/2000 | Cost: 0.201542\n",
            "Epoch: 1900/2000 | Cost: 0.200635\n",
            "Epoch: 2000/2000 | Cost: 0.199769\n"
          ]
        }
      ]
    },
    {
      "cell_type": "code",
      "source": [
        ""
      ],
      "metadata": {
        "id": "4c46YENrYNMf"
      },
      "execution_count": null,
      "outputs": []
    }
  ]
}