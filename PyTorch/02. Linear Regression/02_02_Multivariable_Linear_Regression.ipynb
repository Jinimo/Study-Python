{
  "nbformat": 4,
  "nbformat_minor": 0,
  "metadata": {
    "colab": {
      "name": "02_02_Multivariable Linear Regression.ipynb",
      "provenance": [],
      "authorship_tag": "ABX9TyNRCxxtTATmMNx9aDej40Qq"
    },
    "kernelspec": {
      "name": "python3",
      "display_name": "Python 3"
    },
    "language_info": {
      "name": "python"
    }
  },
  "cells": [
    {
      "cell_type": "markdown",
      "source": [
        "- [참조] : https://wikidocs.net/54841 "
      ],
      "metadata": {
        "id": "zUvGp4S0pQus"
      }
    },
    {
      "cell_type": "markdown",
      "source": [
        "# 다중 선형 회귀(Multivariable Linear Regression)\n",
        "- 다수의 x로부터 y 예측"
      ],
      "metadata": {
        "id": "17_7NPQ0pVqN"
      }
    },
    {
      "cell_type": "code",
      "execution_count": 1,
      "metadata": {
        "id": "HadsDM2eo2RF"
      },
      "outputs": [],
      "source": [
        "import torch\n",
        "import torch.nn as nn\n",
        "import torch.nn.functional as F\n",
        "import torch.optim as optim"
      ]
    },
    {
      "cell_type": "code",
      "source": [
        "torch.manual_seed(1) "
      ],
      "metadata": {
        "id": "WdV54nBNpjAU"
      },
      "execution_count": null,
      "outputs": []
    },
    {
      "cell_type": "code",
      "source": [
        "## 예시) 독립 변수가 3개인 경우\n",
        "# 수식: H(x) = w1*x1 + w2*x2 + w3*x3 + b\n",
        "\n",
        "# 훈련 데이터 \n",
        "x1_train = torch.FloatTensor([[73], [93], [89], [96], [73]])\n",
        "x2_train = torch.FloatTensor([[80], [88], [91], [98], [66]])\n",
        "x3_train = torch.FloatTensor([[75], [93], [90], [100], [70]])\n",
        "\n",
        "y_train = torch.FloatTensor([[152], [185], [180], [196], [142]])"
      ],
      "metadata": {
        "id": "3UBSx6awpmf7"
      },
      "execution_count": 2,
      "outputs": []
    },
    {
      "cell_type": "code",
      "source": [
        "# 가중치 w와 편향 b 초기화\n",
        "w1 = torch.zeros(1, requires_grad=True)\n",
        "w2 = torch.zeros(1, requires_grad=True)\n",
        "w3 = torch.zeros(1, requires_grad=True)\n",
        "\n",
        "b = torch.zeros(1, requires_grad=True)"
      ],
      "metadata": {
        "id": "Mm9IIq4Ap70C"
      },
      "execution_count": 3,
      "outputs": []
    },
    {
      "cell_type": "code",
      "source": [
        "# optimizer\n",
        "optimizer = optim.SGD([w1, w2, w3, b], lr = 1e-5)\n",
        "\n",
        "# epoch\n",
        "nb_epochs = 1000\n",
        "for epoch in range(nb_epochs + 1):\n",
        "  # 가설 H(x)\n",
        "  hypothesis = (x1_train * w1) + (x2_train * w2) + (x3_train * w3) + b\n",
        "\n",
        "  # 비용 함수 cost \n",
        "  cost = torch.mean((hypothesis - y_train) ** 2)\n",
        "\n",
        "  # cost로 H(x) 개선 \n",
        "  optimizer.zero_grad()\n",
        "  cost.backward()       # 자동 미분 \n",
        "  optimizer.step()\n",
        "\n",
        "  # 100번 마다 로그 출력\n",
        "  if epoch % 100 ==0:\n",
        "    print('Epoch {:4d}/{} | w1: {:.3f}, w2: {:.3f}, w3: {:.3f}, b: {:.3f} | Cost: {:.6f}'.format(\n",
        "            epoch, nb_epochs, w1.item(), w2.item(), w3.item(), b.item(), cost.item()\n",
        "        ))"
      ],
      "metadata": {
        "colab": {
          "base_uri": "https://localhost:8080/"
        },
        "id": "5TepiqONqAzT",
        "outputId": "21f94d24-c26f-4443-8139-2c23fd9ffa63"
      },
      "execution_count": 4,
      "outputs": [
        {
          "output_type": "stream",
          "name": "stdout",
          "text": [
            "Epoch    0/1000 | w1: 0.294, w2: 0.294, w3: 0.297, b: 0.003 | Cost: 29661.800781\n",
            "Epoch  100/1000 | w1: 0.674, w2: 0.661, w3: 0.676, b: 0.008 | Cost: 1.563628\n",
            "Epoch  200/1000 | w1: 0.679, w2: 0.655, w3: 0.677, b: 0.008 | Cost: 1.497595\n",
            "Epoch  300/1000 | w1: 0.684, w2: 0.649, w3: 0.677, b: 0.008 | Cost: 1.435044\n",
            "Epoch  400/1000 | w1: 0.689, w2: 0.643, w3: 0.678, b: 0.008 | Cost: 1.375726\n",
            "Epoch  500/1000 | w1: 0.694, w2: 0.638, w3: 0.678, b: 0.009 | Cost: 1.319507\n",
            "Epoch  600/1000 | w1: 0.699, w2: 0.633, w3: 0.679, b: 0.009 | Cost: 1.266222\n",
            "Epoch  700/1000 | w1: 0.704, w2: 0.627, w3: 0.679, b: 0.009 | Cost: 1.215703\n",
            "Epoch  800/1000 | w1: 0.709, w2: 0.622, w3: 0.679, b: 0.009 | Cost: 1.167810\n",
            "Epoch  900/1000 | w1: 0.713, w2: 0.617, w3: 0.680, b: 0.009 | Cost: 1.122429\n",
            "Epoch 1000/1000 | w1: 0.718, w2: 0.613, w3: 0.680, b: 0.009 | Cost: 1.079390\n"
          ]
        }
      ]
    },
    {
      "cell_type": "markdown",
      "source": [
        "## 벡터와 행렬 연산으로 바꾸기\n",
        "- 위의 코드는 독립 변수를 일일히 선언해줌 \n",
        "- 다수의 독립변수는 행렬 곱셈 연산 (벡터 내적, Dot Product) \n",
        "- 수식: `H(x) = w1*x1 + w2*x2 + w3*x3 + b`\n",
        "- ===> `H(x) = WX + B`"
      ],
      "metadata": {
        "id": "Sg1tKrMLrla1"
      }
    },
    {
      "cell_type": "code",
      "source": [
        "# 훈련 데이터 \n",
        "x_train  =  torch.FloatTensor([[73,  80,  75], \n",
        "                               [93,  88,  93], \n",
        "                               [89,  91,  80], \n",
        "                               [96,  98,  100],   \n",
        "                               [73,  66,  70]])  \n",
        "\n",
        "y_train  =  torch.FloatTensor([[152],  [185],  [180],  [196],  [142]])\n",
        "\n",
        "print(x_train.shape)\n",
        "print(y_train.shape)"
      ],
      "metadata": {
        "colab": {
          "base_uri": "https://localhost:8080/"
        },
        "id": "cOeicequrUwD",
        "outputId": "b770b2ee-1ce1-4a68-e3b1-bfbe7fb159ca"
      },
      "execution_count": 6,
      "outputs": [
        {
          "output_type": "stream",
          "name": "stdout",
          "text": [
            "torch.Size([5, 3])\n",
            "torch.Size([5, 1])\n"
          ]
        }
      ]
    },
    {
      "cell_type": "code",
      "source": [
        "# 가중치와 편향 선언 \n",
        "W = torch.zeros((3, 1), requires_grad=True) # W의 크기 -> (3 × 1) 벡터\n",
        "b = torch.zeros(1, requires_grad=True)\n",
        "\n",
        "# `X_train`의 행렬의 크기 -> (5 × 3), 벡터 `W`의 크기 -> (3 × 1) => 두 행렬과 벡터의 내적 연산 가능 !"
      ],
      "metadata": {
        "id": "Rx323vRosZ1Q"
      },
      "execution_count": 7,
      "outputs": []
    },
    {
      "cell_type": "code",
      "source": [
        "# 가설 H(x)\n",
        "hypothesis = x_train.matmul(W) + b"
      ],
      "metadata": {
        "id": "tLqYF394tFnf"
      },
      "execution_count": 8,
      "outputs": []
    },
    {
      "cell_type": "code",
      "source": [
        "## 전체 코드\n",
        "x_train  =  torch.FloatTensor([[73,  80,  75], \n",
        "                               [93,  88,  93], \n",
        "                               [89,  91,  80], \n",
        "                               [96,  98,  100],   \n",
        "                               [73,  66,  70]])  \n",
        "y_train  =  torch.FloatTensor([[152],  [185],  [180],  [196],  [142]])\n",
        "\n",
        "# 모델 초기화\n",
        "W = torch.zeros((3,1), requires_grad = True)\n",
        "b = torch.zeros(1, requires_grad = True)\n",
        "\n",
        "# optimizer 설정 \n",
        "optimizer = optim.SGD([W,b], lr = 1e-5)\n",
        "\n",
        "# epoch\n",
        "nb_epochs = 20\n",
        "for epoch in range(nb_epochs+1):\n",
        "\n",
        "  # 가설 H(x)\n",
        "  # 편향 b -> broadcasting 되어 각 샘플에 더해짐 \n",
        "  hypothesis = x_train.matmul(W) + b\n",
        "\n",
        "  # 비용함수 cost 개선 \n",
        "  cost = torch.mean((hypothesis -y_train) ** 2)\n",
        "\n",
        "  # cost로 H(x) 개선 \n",
        "  optimizer.zero_grad()\n",
        "  cost.backward()\n",
        "  optimizer.step()\n",
        "\n",
        "  print('Epoch {:4d}/{} | hypothesis: {} | Cost: {:.6f}'.format(\n",
        "      epoch, nb_epochs, hypothesis.squeeze().detach(), cost.item()\n",
        "  ))"
      ],
      "metadata": {
        "colab": {
          "base_uri": "https://localhost:8080/"
        },
        "id": "4uOElZz0tSG2",
        "outputId": "525a1362-0828-4902-ea7a-0ad1ffd0dcf7"
      },
      "execution_count": 9,
      "outputs": [
        {
          "output_type": "stream",
          "name": "stdout",
          "text": [
            "Epoch    0/20 | hypothesis: tensor([0., 0., 0., 0., 0.]) | Cost: 29661.800781\n",
            "Epoch    1/20 | hypothesis: tensor([66.7178, 80.1701, 76.1025, 86.0194, 61.1565]) | Cost: 9537.694336\n",
            "Epoch    2/20 | hypothesis: tensor([104.5421, 125.6208, 119.2478, 134.7862,  95.8280]) | Cost: 3069.590088\n",
            "Epoch    3/20 | hypothesis: tensor([125.9858, 151.3882, 143.7087, 162.4333, 115.4844]) | Cost: 990.670288\n",
            "Epoch    4/20 | hypothesis: tensor([138.1429, 165.9963, 157.5768, 178.1071, 126.6283]) | Cost: 322.481873\n",
            "Epoch    5/20 | hypothesis: tensor([145.0350, 174.2780, 165.4395, 186.9928, 132.9461]) | Cost: 107.717064\n",
            "Epoch    6/20 | hypothesis: tensor([148.9423, 178.9730, 169.8976, 192.0301, 136.5279]) | Cost: 38.687496\n",
            "Epoch    7/20 | hypothesis: tensor([151.1574, 181.6346, 172.4254, 194.8856, 138.5585]) | Cost: 16.499043\n",
            "Epoch    8/20 | hypothesis: tensor([152.4131, 183.1435, 173.8590, 196.5043, 139.7097]) | Cost: 9.365656\n",
            "Epoch    9/20 | hypothesis: tensor([153.1250, 183.9988, 174.6723, 197.4217, 140.3625]) | Cost: 7.071114\n",
            "Epoch   10/20 | hypothesis: tensor([153.5285, 184.4835, 175.1338, 197.9415, 140.7325]) | Cost: 6.331847\n",
            "Epoch   11/20 | hypothesis: tensor([153.7572, 184.7582, 175.3958, 198.2360, 140.9424]) | Cost: 6.092532\n",
            "Epoch   12/20 | hypothesis: tensor([153.8868, 184.9138, 175.5449, 198.4026, 141.0613]) | Cost: 6.013817\n",
            "Epoch   13/20 | hypothesis: tensor([153.9602, 185.0019, 175.6299, 198.4969, 141.1288]) | Cost: 5.986785\n",
            "Epoch   14/20 | hypothesis: tensor([154.0017, 185.0517, 175.6785, 198.5500, 141.1671]) | Cost: 5.976325\n",
            "Epoch   15/20 | hypothesis: tensor([154.0252, 185.0798, 175.7065, 198.5800, 141.1888]) | Cost: 5.971208\n",
            "Epoch   16/20 | hypothesis: tensor([154.0385, 185.0956, 175.7229, 198.5966, 141.2012]) | Cost: 5.967835\n",
            "Epoch   17/20 | hypothesis: tensor([154.0459, 185.1045, 175.7326, 198.6059, 141.2082]) | Cost: 5.964969\n",
            "Epoch   18/20 | hypothesis: tensor([154.0501, 185.1094, 175.7386, 198.6108, 141.2122]) | Cost: 5.962291\n",
            "Epoch   19/20 | hypothesis: tensor([154.0524, 185.1120, 175.7424, 198.6134, 141.2145]) | Cost: 5.959664\n",
            "Epoch   20/20 | hypothesis: tensor([154.0536, 185.1134, 175.7451, 198.6145, 141.2158]) | Cost: 5.957089\n"
          ]
        }
      ]
    },
    {
      "cell_type": "code",
      "source": [
        ""
      ],
      "metadata": {
        "id": "krDJlDeZucmo"
      },
      "execution_count": null,
      "outputs": []
    }
  ]
}