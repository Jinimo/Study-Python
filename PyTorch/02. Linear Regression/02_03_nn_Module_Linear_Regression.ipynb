{
  "nbformat": 4,
  "nbformat_minor": 0,
  "metadata": {
    "colab": {
      "name": "02_03_nn.Module_Linear_Regression.ipynb",
      "provenance": [],
      "collapsed_sections": [],
      "authorship_tag": "ABX9TyMkTq6QHJgBknF4307RsVXB"
    },
    "kernelspec": {
      "name": "python3",
      "display_name": "Python 3"
    },
    "language_info": {
      "name": "python"
    }
  },
  "cells": [
    {
      "cell_type": "markdown",
      "source": [
        "- [참조] https://wikidocs.net/55409"
      ],
      "metadata": {
        "id": "myRV8RmG3hOf"
      }
    },
    {
      "cell_type": "markdown",
      "source": [
        "# `nn.Module`로 선형회귀(Linear Regression) 구현하기\n",
        "- PyTorch에서 제공하는 함수 불러 사용 \n",
        "  - 선형 회귀 모델: `nn.Linear()`\n",
        "  - 평균 제곰 오차: `nn.functional.mse_loss()` "
      ],
      "metadata": {
        "id": "-QqgBy1K3ldV"
      }
    },
    {
      "cell_type": "markdown",
      "source": [
        "## 1) 단순 선형 회귀 구현 \n",
        "- `H(x) 식에 입력 값 `x`로 부터 예측된 `y`를 얻는 과정 => `forward 연산`\n",
        "  - 학습 전: `prediction = model(x_train)` --> `x_train`으로부터 예측값 리턴 ==> `forward 연산` O\n",
        "  - 학습 후:`pred_y = model(new_var)` --> 임의의 값 `new_var`로부터 예측값 리턴 ==> `forward 연산` O\n",
        "- `forward 연산`: 학습 과정에서 비용함수를 미분하여 기울기(`W`) 구하는 것 \n",
        "  - `cost.backward()`: 비용 함수로부터 기울기를 구하라는 의미"
      ],
      "metadata": {
        "id": "IdjelM1t4aic"
      }
    },
    {
      "cell_type": "markdown",
      "source": [
        "- 예시: `y = 2x`로 가정 "
      ],
      "metadata": {
        "id": "bv_85GSn8mfg"
      }
    },
    {
      "cell_type": "code",
      "source": [
        "import torch\n",
        "import torch.nn as nn\n",
        "import torch.nn.functional as F"
      ],
      "metadata": {
        "id": "8kxOyjGU4aJG"
      },
      "execution_count": 2,
      "outputs": []
    },
    {
      "cell_type": "code",
      "source": [
        "torch.manual_seed(1)"
      ],
      "metadata": {
        "colab": {
          "base_uri": "https://localhost:8080/"
        },
        "id": "z0bL66qi4aHL",
        "outputId": "76f17ec4-908c-4451-bae5-6cb46ac3d128"
      },
      "execution_count": 3,
      "outputs": [
        {
          "output_type": "execute_result",
          "data": {
            "text/plain": [
              "<torch._C.Generator at 0x7f0817dfba70>"
            ]
          },
          "metadata": {},
          "execution_count": 3
        }
      ]
    },
    {
      "cell_type": "code",
      "source": [
        "# 데이터\n",
        "x_train = torch.FloatTensor([[1], [2], [3]])\n",
        "y_train = torch.FloatTensor([[2], [4], [6]])"
      ],
      "metadata": {
        "id": "ou_FnQ9x4aFO"
      },
      "execution_count": 4,
      "outputs": []
    },
    {
      "cell_type": "code",
      "source": [
        "# PyTorch에서 제공하는 선형 회귀 모델 \n",
        "# model = nn.Linear(input_dim, output_dim)\n",
        "# 모델을 선언 및 초기화. 단순 선형 회귀 --> 입력 차원: input_dim=1, 출력 차원: output_dim=1\n",
        "model = nn.Linear(1,1)"
      ],
      "metadata": {
        "id": "AZd_Bkf14aDU"
      },
      "execution_count": 5,
      "outputs": []
    },
    {
      "cell_type": "code",
      "source": [
        "# model -> 가중치(W), 편향(b) 저장됨\n",
        "# model.parameters() 통해 불러올 수 있음 \n",
        "# 리스트 첫번째가  W, 두번째가 b\n",
        "# 두 값 모두 학습의 대상 --> requires_grad = True\n",
        "print(list(model.parameters())) "
      ],
      "metadata": {
        "colab": {
          "base_uri": "https://localhost:8080/"
        },
        "id": "LwCnmPsW5CDB",
        "outputId": "bfa10351-cf1b-498c-92d3-ffa31aab0f69"
      },
      "execution_count": 7,
      "outputs": [
        {
          "output_type": "stream",
          "name": "stdout",
          "text": [
            "[Parameter containing:\n",
            "tensor([[0.5153]], requires_grad=True), Parameter containing:\n",
            "tensor([-0.4414], requires_grad=True)]\n"
          ]
        }
      ]
    },
    {
      "cell_type": "code",
      "execution_count": 8,
      "metadata": {
        "id": "wXJn1U2R3TTG"
      },
      "outputs": [],
      "source": [
        "# optimizer 설정 \n",
        "# 경사하강법 SGD 사용, learning rate = 0.01\n",
        "optimizer = torch.optim.SGD(model.parameters(), lr=0.01)"
      ]
    },
    {
      "cell_type": "code",
      "source": [
        "# 전체 훈련 데이터 2000번 경사하강법(SGD) 반복\n",
        "nb_epochs = 2000\n",
        "for epoch in range(nb_epochs+1):\n",
        "\n",
        "  # 가설 H(x)\n",
        "  prediction = model(x_train)\n",
        "\n",
        "  # 비용함수 cost 계산 \n",
        "  ### PyTorch에서 제공하는 평군 제곱 오차 함수 (MSE)\n",
        "  cost = F.mse_loss(prediction, y_train)\n",
        "\n",
        "  # cost -> H(x) 개선 \n",
        "  optimizer.zero_grad() # gradient = 0 초기화\n",
        "  cost.backward()       # cost 자동 미분 -> gradient 계산 \n",
        "  optimizer.step()      # W, b 업데이트\n",
        "\n",
        "  # 100번마다 로그 출력\n",
        "  if epoch % 100 == 0:\n",
        "    print('Epoch {:4d}/{} | Cost: {:.6f}'.format(\n",
        "          epoch, nb_epochs, cost.item()\n",
        "      ))\n",
        "\n",
        "## ====> 결과: cost의 값이 매우 작음 -> W, b 값도 최적화가 되었는지 확인하기"
      ],
      "metadata": {
        "colab": {
          "base_uri": "https://localhost:8080/"
        },
        "id": "4w0pGf7e53e1",
        "outputId": "091d6d59-0301-4360-c11b-e4e7a96ae961"
      },
      "execution_count": 9,
      "outputs": [
        {
          "output_type": "stream",
          "name": "stdout",
          "text": [
            "Epoch    0/2000 | Cost: 13.103541\n",
            "Epoch  100/2000 | Cost: 0.002791\n",
            "Epoch  200/2000 | Cost: 0.001724\n",
            "Epoch  300/2000 | Cost: 0.001066\n",
            "Epoch  400/2000 | Cost: 0.000658\n",
            "Epoch  500/2000 | Cost: 0.000407\n",
            "Epoch  600/2000 | Cost: 0.000251\n",
            "Epoch  700/2000 | Cost: 0.000155\n",
            "Epoch  800/2000 | Cost: 0.000096\n",
            "Epoch  900/2000 | Cost: 0.000059\n",
            "Epoch 1000/2000 | Cost: 0.000037\n",
            "Epoch 1100/2000 | Cost: 0.000023\n",
            "Epoch 1200/2000 | Cost: 0.000014\n",
            "Epoch 1300/2000 | Cost: 0.000009\n",
            "Epoch 1400/2000 | Cost: 0.000005\n",
            "Epoch 1500/2000 | Cost: 0.000003\n",
            "Epoch 1600/2000 | Cost: 0.000002\n",
            "Epoch 1700/2000 | Cost: 0.000001\n",
            "Epoch 1800/2000 | Cost: 0.000001\n",
            "Epoch 1900/2000 | Cost: 0.000000\n",
            "Epoch 2000/2000 | Cost: 0.000000\n"
          ]
        }
      ]
    },
    {
      "cell_type": "code",
      "source": [
        "# 임의의값 x=4  대입 -> y 값 확인 \n",
        "new_var  = torch.FloatTensor([[4.0]])\n",
        "\n",
        "# 예측 y -> pred_y에 저장\n",
        "pred_y = model(new_var)      # forward 연산 -> 자동 미분 \n",
        "\n",
        "# y=2x --> 입력 x=4이면 y=8 가까운 값 나와야 제대로 학습 된 것\n",
        "print(pred_y)"
      ],
      "metadata": {
        "colab": {
          "base_uri": "https://localhost:8080/"
        },
        "id": "hh4SfoH27RJS",
        "outputId": "eced5cc3-9974-4d82-b641-535c8616b808"
      },
      "execution_count": 10,
      "outputs": [
        {
          "output_type": "stream",
          "name": "stdout",
          "text": [
            "tensor([[7.9989]], grad_fn=<AddmmBackward0>)\n"
          ]
        }
      ]
    },
    {
      "cell_type": "code",
      "source": [
        "# 학습 후 W, b 값 확인 \n",
        "print(list(model.parameters()))\n",
        "\n",
        "# # 학습 전: W = 0.5153, b=-0.4414\n",
        "# [Parameter containing:\n",
        "# tensor([[0.5153]], requires_grad=True), Parameter containing:\n",
        "# tensor([-0.4414], requires_grad=True)]"
      ],
      "metadata": {
        "colab": {
          "base_uri": "https://localhost:8080/"
        },
        "id": "8S5a-iiz8G1Q",
        "outputId": "aef66abc-0a57-4a59-f1fb-0239b9b46048"
      },
      "execution_count": 11,
      "outputs": [
        {
          "output_type": "stream",
          "name": "stdout",
          "text": [
            "[Parameter containing:\n",
            "tensor([[1.9994]], requires_grad=True), Parameter containing:\n",
            "tensor([0.0014], requires_grad=True)]\n"
          ]
        }
      ]
    },
    {
      "cell_type": "code",
      "source": [
        ""
      ],
      "metadata": {
        "id": "OJCJcbN-8RK2"
      },
      "execution_count": null,
      "outputs": []
    }
  ]
}