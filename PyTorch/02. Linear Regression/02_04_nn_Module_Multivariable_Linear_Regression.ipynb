{
  "nbformat": 4,
  "nbformat_minor": 0,
  "metadata": {
    "colab": {
      "name": "02_04_nn.Module_Multivariable_Linear_Regression.ipynb",
      "provenance": [],
      "collapsed_sections": [],
      "authorship_tag": "ABX9TyPJEaJv6U8Kq7Bhg/Nx2fUE"
    },
    "kernelspec": {
      "name": "python3",
      "display_name": "Python 3"
    },
    "language_info": {
      "name": "python"
    }
  },
  "cells": [
    {
      "cell_type": "markdown",
      "source": [
        "- [참조]: https://wikidocs.net/55409"
      ],
      "metadata": {
        "id": "5LQdhjLGAIac"
      }
    },
    {
      "cell_type": "markdown",
      "source": [
        "# `nn.Module`로 다중 선형 회귀(Multivariable Linear Regression) 구현하기\n",
        "- PyTorch에서 제공하는 함수 불러 사용 \n",
        "  - 선형 회귀 모델: `nn.Linear()`\n",
        "  - 평균 제곰 오차: `nn.functional.mse_loss()` "
      ],
      "metadata": {
        "id": "XXCLTqQHA1pY"
      }
    },
    {
      "cell_type": "code",
      "execution_count": 1,
      "metadata": {
        "id": "4z_EIVdB_uiA"
      },
      "outputs": [],
      "source": [
        "import torch\n",
        "import torch.nn as nn\n",
        "import torch.nn.functional as F"
      ]
    },
    {
      "cell_type": "code",
      "source": [
        "torch.manual_seed(1)"
      ],
      "metadata": {
        "colab": {
          "base_uri": "https://localhost:8080/"
        },
        "id": "dklTMpXAAVc-",
        "outputId": "22f2a828-2468-4af0-d905-17a6d6229232"
      },
      "execution_count": 2,
      "outputs": [
        {
          "output_type": "execute_result",
          "data": {
            "text/plain": [
              "<torch._C.Generator at 0x7f1195efca70>"
            ]
          },
          "metadata": {},
          "execution_count": 2
        }
      ]
    },
    {
      "cell_type": "markdown",
      "source": [
        "- 예시) 3개 x --> 하나의 y 값 예측\n",
        "   - `H(x) = w1* x1 + w2*x2 + w3*x3 + b`"
      ],
      "metadata": {
        "id": "8Nos0XTGAcH_"
      }
    },
    {
      "cell_type": "code",
      "source": [
        "# 데이터\n",
        "x_train = torch.FloatTensor([[73, 80, 75],\n",
        "                             [93, 88, 93],\n",
        "                             [89, 91, 90],\n",
        "                             [96, 98, 100],\n",
        "                             [73, 66, 70]])\n",
        "y_train = torch.FloatTensor([[152], [185], [180], [196], [142]])"
      ],
      "metadata": {
        "id": "KzDxUizUAYPt"
      },
      "execution_count": 3,
      "outputs": []
    },
    {
      "cell_type": "code",
      "source": [
        "# 모델을 선언 및 초기화.\n",
        "# 다중 선형 회귀 --> input_dim=3, output_dim=1\n",
        "# model에 3개의 가중치(W), 1개의 편향(b) 저장\n",
        "\n",
        "model = nn.Linear(3,1)"
      ],
      "metadata": {
        "id": "VlALq21uBUBP"
      },
      "execution_count": 4,
      "outputs": []
    },
    {
      "cell_type": "code",
      "source": [
        "# 저장된 W, b 확인 \n",
        "print(list(model.parameters()))"
      ],
      "metadata": {
        "colab": {
          "base_uri": "https://localhost:8080/"
        },
        "id": "K_eQqW2xBlYZ",
        "outputId": "ce0f760a-ec60-43a3-aee9-b123d6f50c9b"
      },
      "execution_count": 5,
      "outputs": [
        {
          "output_type": "stream",
          "name": "stdout",
          "text": [
            "[Parameter containing:\n",
            "tensor([[ 0.2975, -0.2548, -0.1119]], requires_grad=True), Parameter containing:\n",
            "tensor([0.2710], requires_grad=True)]\n"
          ]
        }
      ]
    },
    {
      "cell_type": "code",
      "source": [
        "## optimizer 정의\n",
        "# 학습률(learning rate = 0.00001 = 1e-5)\n",
        "# lr = 0.01 ---> 모델이 필요한 크기보다 높은 경우 기울기 발산!\n",
        "\n",
        "optimizer = torch.optim.SGD(model.parameters(), lr=1e-5)"
      ],
      "metadata": {
        "id": "we3y8cj2BpQs"
      },
      "execution_count": 6,
      "outputs": []
    },
    {
      "cell_type": "markdown",
      "source": [
        "![image.png](data:image/png;base64,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)"
      ],
      "metadata": {
        "id": "uZxAlCbwClqn"
      }
    },
    {
      "cell_type": "code",
      "source": [
        "# 전체 훈련 데이터 2000번 경사하강법(SGD) 반복\n",
        "nb_epochs = 2000\n",
        "for epoch in range(nb_epochs+1):\n",
        "\n",
        "  # 가설 H(x)\n",
        "  prediction = model(x_train)\n",
        "\n",
        "  # 비용함수 cost 계산 \n",
        "  ### PyTorch에서 제공하는 평군 제곱 오차 함수 (MSE)\n",
        "  cost = F.mse_loss(prediction, y_train)\n",
        "\n",
        "  # cost -> H(x) 개선 \n",
        "  optimizer.zero_grad() # gradient = 0 초기화\n",
        "  cost.backward()       # cost 자동 미분 -> gradient 계산 \n",
        "  optimizer.step()      # W, b 업데이트\n",
        "\n",
        "  # 100번마다 로그 출력\n",
        "  if epoch % 100 == 0:\n",
        "    print('Epoch {:4d}/{} | Cost: {:.6f}'.format(\n",
        "          epoch, nb_epochs, cost.item()\n",
        "      ))\n",
        "# 전체 훈련 데이터 2000번 경사하강법(SGD) 반복\n",
        "nb_epochs = 2000\n",
        "for epoch in range(nb_epochs+1):\n",
        "\n",
        "  # 가설 H(x)\n",
        "  prediction = model(x_train)\n",
        "\n",
        "  # 비용함수 cost 계산 \n",
        "  ### PyTorch에서 제공하는 평군 제곱 오차 함수 (MSE)\n",
        "  cost = F.mse_loss(prediction, y_train)\n",
        "\n",
        "  # cost -> H(x) 개선 \n",
        "  optimizer.zero_grad() # gradient = 0 초기화\n",
        "  cost.backward()       # cost 자동 미분 -> gradient 계산 \n",
        "  optimizer.step()      # W, b 업데이트\n",
        "\n",
        "  # 100번마다 로그 출력\n",
        "  if epoch % 100 == 0:\n",
        "    print('Epoch {:4d}/{} | Cost: {:.6f}'.format(\n",
        "          epoch, nb_epochs, cost.item()\n",
        "      ))\n",
        "\n",
        "## ====> 결과: cost의 값이 매우 작음 -> W, b 값도 최적화가 되었는지 확인하기"
      ],
      "metadata": {
        "colab": {
          "base_uri": "https://localhost:8080/"
        },
        "id": "5V6z-uu5CguG",
        "outputId": "4617b9b2-ea39-464d-e9d8-5538c4969be9"
      },
      "execution_count": 7,
      "outputs": [
        {
          "output_type": "stream",
          "name": "stdout",
          "text": [
            "Epoch    0/2000 | Cost: 31667.597656\n",
            "Epoch  100/2000 | Cost: 0.225993\n",
            "Epoch  200/2000 | Cost: 0.223911\n",
            "Epoch  300/2000 | Cost: 0.221941\n",
            "Epoch  400/2000 | Cost: 0.220059\n",
            "Epoch  500/2000 | Cost: 0.218271\n",
            "Epoch  600/2000 | Cost: 0.216575\n",
            "Epoch  700/2000 | Cost: 0.214950\n",
            "Epoch  800/2000 | Cost: 0.213413\n",
            "Epoch  900/2000 | Cost: 0.211952\n",
            "Epoch 1000/2000 | Cost: 0.210560\n",
            "Epoch 1100/2000 | Cost: 0.209232\n",
            "Epoch 1200/2000 | Cost: 0.207967\n",
            "Epoch 1300/2000 | Cost: 0.206761\n",
            "Epoch 1400/2000 | Cost: 0.205619\n",
            "Epoch 1500/2000 | Cost: 0.204522\n",
            "Epoch 1600/2000 | Cost: 0.203484\n",
            "Epoch 1700/2000 | Cost: 0.202485\n",
            "Epoch 1800/2000 | Cost: 0.201542\n",
            "Epoch 1900/2000 | Cost: 0.200635\n",
            "Epoch 2000/2000 | Cost: 0.199769\n",
            "Epoch    0/2000 | Cost: 0.199762\n",
            "Epoch  100/2000 | Cost: 0.198937\n",
            "Epoch  200/2000 | Cost: 0.198153\n",
            "Epoch  300/2000 | Cost: 0.197401\n",
            "Epoch  400/2000 | Cost: 0.196682\n",
            "Epoch  500/2000 | Cost: 0.195994\n",
            "Epoch  600/2000 | Cost: 0.195332\n",
            "Epoch  700/2000 | Cost: 0.194707\n",
            "Epoch  800/2000 | Cost: 0.194104\n",
            "Epoch  900/2000 | Cost: 0.193534\n",
            "Epoch 1000/2000 | Cost: 0.192977\n",
            "Epoch 1100/2000 | Cost: 0.192451\n",
            "Epoch 1200/2000 | Cost: 0.191935\n",
            "Epoch 1300/2000 | Cost: 0.191453\n",
            "Epoch 1400/2000 | Cost: 0.190981\n",
            "Epoch 1500/2000 | Cost: 0.190538\n",
            "Epoch 1600/2000 | Cost: 0.190106\n",
            "Epoch 1700/2000 | Cost: 0.189695\n",
            "Epoch 1800/2000 | Cost: 0.189290\n",
            "Epoch 1900/2000 | Cost: 0.188907\n",
            "Epoch 2000/2000 | Cost: 0.188537\n"
          ]
        }
      ]
    },
    {
      "cell_type": "code",
      "source": [
        "# 임의의 값 x = [73, 80, 75] 넣어 예측 y 값 확인\n",
        "new_var = torch.FloatTensor([[73, 80, 75]])\n",
        "\n",
        "# 예측 y -> pred_y에 저장\n",
        "pred_y = model(new_var)      # forward 연산 -> 자동 미분 \n",
        "print(pred_y)"
      ],
      "metadata": {
        "colab": {
          "base_uri": "https://localhost:8080/"
        },
        "id": "g_uLI1JjCsj6",
        "outputId": "cefbb85c-c81e-4bb4-a3e7-544a900267d8"
      },
      "execution_count": 8,
      "outputs": [
        {
          "output_type": "stream",
          "name": "stdout",
          "text": [
            "tensor([[151.3064]], grad_fn=<AddmmBackward0>)\n"
          ]
        }
      ]
    },
    {
      "cell_type": "code",
      "source": [
        "# x -> 훈련 데이터로 사용한 값 \n",
        "# x_train = [73, 80, 75] 일때 -> y_train = [152]\n",
        "# y_train=[152] 과 pred_y=[151.3064] 비교하여 어느정도 3개의 w, b 값이 최적화 됨을 확인!! "
      ],
      "metadata": {
        "id": "pq4DJnfBDfzL"
      },
      "execution_count": 12,
      "outputs": []
    },
    {
      "cell_type": "code",
      "source": [
        "## 학습 후 3개의 w, b 값 확인 \n",
        "print(list(model.parameters()))\n",
        "\n",
        "# 결과: w1, w2, w3 = [0.9737, 0.4658, 0.5691] , b = [0.2814]"
      ],
      "metadata": {
        "colab": {
          "base_uri": "https://localhost:8080/"
        },
        "id": "jr60WuIFKXy1",
        "outputId": "52c31bae-3ba3-4506-9668-494ef0932006"
      },
      "execution_count": 14,
      "outputs": [
        {
          "output_type": "stream",
          "name": "stdout",
          "text": [
            "[Parameter containing:\n",
            "tensor([[0.9737, 0.4658, 0.5691]], requires_grad=True), Parameter containing:\n",
            "tensor([0.2814], requires_grad=True)]\n"
          ]
        }
      ]
    },
    {
      "cell_type": "code",
      "source": [
        ""
      ],
      "metadata": {
        "id": "1YIfbru0K__z"
      },
      "execution_count": null,
      "outputs": []
    }
  ]
}