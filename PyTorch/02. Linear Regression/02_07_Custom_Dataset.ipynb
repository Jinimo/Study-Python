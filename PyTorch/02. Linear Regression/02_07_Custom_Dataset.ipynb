{
  "nbformat": 4,
  "nbformat_minor": 0,
  "metadata": {
    "colab": {
      "name": "02_07_Custom_Dataset.ipynb",
      "provenance": [],
      "authorship_tag": "ABX9TyOKW3AUSbRUvMGWECBUhK5n"
    },
    "kernelspec": {
      "name": "python3",
      "display_name": "Python 3"
    },
    "language_info": {
      "name": "python"
    }
  },
  "cells": [
    {
      "cell_type": "markdown",
      "source": [
        "[참조]\n",
        "- https://wikidocs.net/57165"
      ],
      "metadata": {
        "id": "T5FUl1AkTuHz"
      }
    },
    {
      "cell_type": "markdown",
      "source": [
        "\n",
        "<이전>\n",
        "- `torch.utils.data.Dataset`, `torch.utils.data.DataLoader`\n",
        "- 위의 도구 사용하면 미니 배치 학습, 셔플(suffle), 병렬 처리 간단히 수행 가능 \n",
        "- 순서) `Dataset` 정의 -> `DataLoader`에 전달 "
      ],
      "metadata": {
        "id": "5ShiCdEtTyo4"
      }
    },
    {
      "cell_type": "markdown",
      "source": [
        "# 커스텀 데이터셋 (Custom Dataset)\n",
        "----\n",
        "- `torch.utils.data.Dataset` 상속받아 직접 커스텀 데이터셋(Custom Dataset) 만드는 경우\n",
        "- `torch.utils.data.Dataset`: PyTorch에서 제공하는 추상 class\n"
      ],
      "metadata": {
        "id": "h9kCId0kUjpe"
      }
    },
    {
      "cell_type": "markdown",
      "source": [
        "## 1. 커스텀 데이터셋(Custom Dataset)\n",
        "- `Dataset` 상속받아 method 오버라이드하여 커스텀 데이터셋 만들어보기\n",
        "\n",
        "```\n",
        "## 기본적으로 필요한 define 3개\n",
        "class CustomDataset(torch.utils.data.Dataset):\n",
        "  # 데이터셋 전처리 해주는 부분\n",
        "  def__init__(self):  \n",
        "\n",
        "  # 데이터셋 길이 -> 총 샘플의 수 적어주는 부분\n",
        "  def __len__(self):\n",
        " \n",
        "  # 데이터셋에서 특징 1개의 샘플 가져오느 함수\n",
        "  def __getitem__(self, idx):\n",
        "```\n",
        "- `len` -> `len(dataset)` 수행 시 데이터셋 크기 리턴\n",
        "- `get_item` -> `dataset[i]` 수행 시 `i`번째 샘플 가져오도록 인덱싱"
      ],
      "metadata": {
        "id": "xRtgnu-bVHM-"
      }
    },
    {
      "cell_type": "code",
      "execution_count": 1,
      "metadata": {
        "id": "UZOxirjxTntU"
      },
      "outputs": [],
      "source": [
        "# ## 기본적으로 필요한 define 3개\n",
        "# class CustomDataset(torch.utils.data.Dataset):\n",
        "#   # 데이터셋 전처리 해주는 부분\n",
        "#   def__init__(self):  \n",
        "\n",
        "#   # 데이터셋 길이 -> 총 샘플의 수 적어주는 부분\n",
        "#   def __len__(self):\n",
        " \n",
        "#   # 데이터셋에서 특징 1개의 샘플 가져오느 함수\n",
        "#   def __getitem__(self, idx):"
      ]
    },
    {
      "cell_type": "markdown",
      "source": [
        "## 2. 커스텀 데이터셋으로 선형 회귀 구현 "
      ],
      "metadata": {
        "id": "pgvK-hjsWlpa"
      }
    },
    {
      "cell_type": "code",
      "source": [
        "import torch\n",
        "import torch.nn.functional as F"
      ],
      "metadata": {
        "id": "bluU5aQrWAnf"
      },
      "execution_count": 2,
      "outputs": []
    },
    {
      "cell_type": "code",
      "source": [
        "from torch.utils.data import Dataset\n",
        "from torch.utils.data import DataLoader"
      ],
      "metadata": {
        "id": "L9YczzCnWwcO"
      },
      "execution_count": 3,
      "outputs": []
    },
    {
      "cell_type": "markdown",
      "source": [
        "`Dataset` 상속"
      ],
      "metadata": {
        "id": "1gmqQRAUW73L"
      }
    },
    {
      "cell_type": "code",
      "source": [
        "class CustomDataset(Dataset):\n",
        "  def __init__(self):\n",
        "    self.x_data = [[73, 80, 75],\n",
        "                   [93, 88, 93],\n",
        "                   [89, 91, 90],\n",
        "                   [96, 98, 100],\n",
        "                   [73, 66, 70]]\n",
        "    self.y_data = [[152], [185], [180], [196], [142]]\n",
        "  \n",
        "  # 총 데이터의 개수 리턴\n",
        "  def __len__(self):\n",
        "    return len(self.x_data)\n",
        "\n",
        "  # index 입력받아 그에 mapping되는 입출력 데이터 -> PyTorch Tensor 형태로 리턴\n",
        "  def __getitem__(self, idx):\n",
        "    x = torch.FloatTensor(self.x_data[idx])\n",
        "    y = torch.FloatTensor(self.y_data[idx])\n",
        "    return x, y"
      ],
      "metadata": {
        "id": "YfRKdOyCW5t1"
      },
      "execution_count": 4,
      "outputs": []
    },
    {
      "cell_type": "code",
      "source": [
        "\n",
        "dataset = CustomDataset()\n",
        "dataloader = DataLoader(dataset, batch_size=2, shuffle=True)"
      ],
      "metadata": {
        "id": "tLCTIQo2X8SC"
      },
      "execution_count": 5,
      "outputs": []
    },
    {
      "cell_type": "code",
      "source": [
        "model = torch.nn.Linear(3, 1)\n",
        "optimizer = torch.optim.SGD(model.parameters(), lr = 1e-5)"
      ],
      "metadata": {
        "id": "UhBb604hX2zt"
      },
      "execution_count": 6,
      "outputs": []
    },
    {
      "cell_type": "code",
      "source": [
        "nb_epochs = 20\n",
        "for epoch in range(nb_epochs+1):\n",
        "  for batch_idx, samples in enumerate(dataloader):\n",
        "    # print(batch_idx)\n",
        "    # print(samples)\n",
        "    x_train, y_train = samples\n",
        "\n",
        "    # H(x)\n",
        "    prediction = model(x_train)\n",
        "\n",
        "    # cost\n",
        "    cost = F.mse_loss(prediction, y_train)\n",
        "\n",
        "    # cost -> H(x) 개선\n",
        "    optimizer.zero_grad()\n",
        "    cost.backward()\n",
        "    optimizer.step()\n",
        "\n",
        "    print('Epoch {:4d}/{} | Batch {}/{} | Cost: {:.6f}'.format(\n",
        "        epoch, nb_epochs, batch_idx+1, len(dataloader),\n",
        "        cost.item()\n",
        "        ))\n"
      ],
      "metadata": {
        "colab": {
          "base_uri": "https://localhost:8080/"
        },
        "id": "Y9n81h1QZRxD",
        "outputId": "3fb67942-d10a-4ab9-d729-67ab7c254e2b"
      },
      "execution_count": 9,
      "outputs": [
        {
          "output_type": "stream",
          "name": "stdout",
          "text": [
            "Epoch    0/20 | Batch 1/3 | Cost: 0.117260\n",
            "Epoch    0/20 | Batch 2/3 | Cost: 5.053760\n",
            "Epoch    0/20 | Batch 3/3 | Cost: 2.265545\n",
            "Epoch    1/20 | Batch 1/3 | Cost: 2.641428\n",
            "Epoch    1/20 | Batch 2/3 | Cost: 3.151036\n",
            "Epoch    1/20 | Batch 3/3 | Cost: 1.135791\n",
            "Epoch    2/20 | Batch 1/3 | Cost: 0.907828\n",
            "Epoch    2/20 | Batch 2/3 | Cost: 4.662889\n",
            "Epoch    2/20 | Batch 3/3 | Cost: 0.051621\n",
            "Epoch    3/20 | Batch 1/3 | Cost: 3.210944\n",
            "Epoch    3/20 | Batch 2/3 | Cost: 0.807331\n",
            "Epoch    3/20 | Batch 3/3 | Cost: 4.466667\n",
            "Epoch    4/20 | Batch 1/3 | Cost: 4.835881\n",
            "Epoch    4/20 | Batch 2/3 | Cost: 2.088975\n",
            "Epoch    4/20 | Batch 3/3 | Cost: 0.001472\n",
            "Epoch    5/20 | Batch 1/3 | Cost: 3.603772\n",
            "Epoch    5/20 | Batch 2/3 | Cost: 2.461199\n",
            "Epoch    5/20 | Batch 3/3 | Cost: 0.331324\n",
            "Epoch    6/20 | Batch 1/3 | Cost: 2.053687\n",
            "Epoch    6/20 | Batch 2/3 | Cost: 3.845572\n",
            "Epoch    6/20 | Batch 3/3 | Cost: 0.072466\n",
            "Epoch    7/20 | Batch 1/3 | Cost: 1.542694\n",
            "Epoch    7/20 | Batch 2/3 | Cost: 5.508164\n",
            "Epoch    7/20 | Batch 3/3 | Cost: 1.168844\n",
            "Epoch    8/20 | Batch 1/3 | Cost: 4.000475\n",
            "Epoch    8/20 | Batch 2/3 | Cost: 1.187347\n",
            "Epoch    8/20 | Batch 3/3 | Cost: 3.956479\n",
            "Epoch    9/20 | Batch 1/3 | Cost: 5.058074\n",
            "Epoch    9/20 | Batch 2/3 | Cost: 2.093662\n",
            "Epoch    9/20 | Batch 3/3 | Cost: 0.150793\n",
            "Epoch   10/20 | Batch 1/3 | Cost: 1.260898\n",
            "Epoch   10/20 | Batch 2/3 | Cost: 3.288590\n",
            "Epoch   10/20 | Batch 3/3 | Cost: 4.626018\n",
            "Epoch   11/20 | Batch 1/3 | Cost: 2.249021\n",
            "Epoch   11/20 | Batch 2/3 | Cost: 4.260664\n",
            "Epoch   11/20 | Batch 3/3 | Cost: 0.488523\n",
            "Epoch   12/20 | Batch 1/3 | Cost: 2.047979\n",
            "Epoch   12/20 | Batch 2/3 | Cost: 0.056257\n",
            "Epoch   12/20 | Batch 3/3 | Cost: 7.694410\n",
            "Epoch   13/20 | Batch 1/3 | Cost: 2.783142\n",
            "Epoch   13/20 | Batch 2/3 | Cost: 0.384443\n",
            "Epoch   13/20 | Batch 3/3 | Cost: 6.099851\n",
            "Epoch   14/20 | Batch 1/3 | Cost: 4.522102\n",
            "Epoch   14/20 | Batch 2/3 | Cost: 2.162050\n",
            "Epoch   14/20 | Batch 3/3 | Cost: 0.198439\n",
            "Epoch   15/20 | Batch 1/3 | Cost: 0.040976\n",
            "Epoch   15/20 | Batch 2/3 | Cost: 5.170177\n",
            "Epoch   15/20 | Batch 3/3 | Cost: 5.204589\n",
            "Epoch   16/20 | Batch 1/3 | Cost: 5.081008\n",
            "Epoch   16/20 | Batch 2/3 | Cost: 0.041325\n",
            "Epoch   16/20 | Batch 3/3 | Cost: 2.425411\n",
            "Epoch   17/20 | Batch 1/3 | Cost: 0.779893\n",
            "Epoch   17/20 | Batch 2/3 | Cost: 4.678815\n",
            "Epoch   17/20 | Batch 3/3 | Cost: 0.097675\n",
            "Epoch   18/20 | Batch 1/3 | Cost: 0.250189\n",
            "Epoch   18/20 | Batch 2/3 | Cost: 4.223567\n",
            "Epoch   18/20 | Batch 3/3 | Cost: 6.011984\n",
            "Epoch   19/20 | Batch 1/3 | Cost: 1.669880\n",
            "Epoch   19/20 | Batch 2/3 | Cost: 4.613937\n",
            "Epoch   19/20 | Batch 3/3 | Cost: 0.314675\n",
            "Epoch   20/20 | Batch 1/3 | Cost: 0.049508\n",
            "Epoch   20/20 | Batch 2/3 | Cost: 4.733791\n",
            "Epoch   20/20 | Batch 3/3 | Cost: 1.805377\n"
          ]
        }
      ]
    },
    {
      "cell_type": "code",
      "source": [
        "## 임의의 값 [73, 80, 75]\n",
        "pred_y = torch.FloatTensor([[73, 80, 75]])\n",
        "# 입력값 [73, 80, 75]에 대한 예측값 y return -> pred_y 저장 \n",
        "pred_y = model(pred_y)\n",
        "\n",
        "print('pred_y: ', pred_y)"
      ],
      "metadata": {
        "colab": {
          "base_uri": "https://localhost:8080/"
        },
        "id": "fFfj46CuaMEh",
        "outputId": "cacb47e0-64a9-4b21-fa18-c3d066795e8c"
      },
      "execution_count": 10,
      "outputs": [
        {
          "output_type": "stream",
          "name": "stdout",
          "text": [
            "pred_y:  tensor([[152.5399]], grad_fn=<AddmmBackward0>)\n"
          ]
        }
      ]
    },
    {
      "cell_type": "code",
      "source": [
        "## original\n",
        "# self.x_data = [[73, 80, 75],\n",
        "#                 [93, 88, 93],\n",
        "#                 [89, 91, 90],\n",
        "#                 [96, 98, 100],\n",
        "#                 [73, 66, 70]]\n",
        "# self.y_data = [[152], [185], [180], [196], [142]]"
      ],
      "metadata": {
        "id": "vN2uqQH8az5T"
      },
      "execution_count": 11,
      "outputs": []
    }
  ]
}